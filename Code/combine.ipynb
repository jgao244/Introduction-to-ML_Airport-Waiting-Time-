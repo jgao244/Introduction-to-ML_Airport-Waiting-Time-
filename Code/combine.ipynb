{
 "cells": [
  {
   "cell_type": "code",
   "execution_count": 1,
   "metadata": {},
   "outputs": [],
   "source": [
    "import pandas as pd\n",
    "import numpy as np\n",
    "from sklearn.feature_selection import SelectKBest\n",
    "from sklearn.feature_selection import chi2\n",
    "from sklearn.model_selection import train_test_split\n",
    "from sklearn.linear_model import LinearRegression\n",
    "from sklearn.preprocessing import StandardScaler\n",
    "from sklearn.pipeline import Pipeline\n",
    "import sys"
   ]
  },
  {
   "cell_type": "code",
   "execution_count": 2,
   "metadata": {},
   "outputs": [],
   "source": [
    "df = pd.read_csv('airport.csv')\n",
    "del df[\"time_of_day\"]\n",
    "del df[\"booth_rate\"]"
   ]
  },
  {
   "cell_type": "code",
   "execution_count": 3,
   "metadata": {},
   "outputs": [],
   "source": [
    "df[\"us\"] = df[\"us_avg_wait\"]\n",
    "df[\"non_us\"] = df[\"non_us_avg_wait\"]"
   ]
  },
  {
   "cell_type": "code",
   "execution_count": 4,
   "metadata": {},
   "outputs": [],
   "source": [
    "df['label'] = 0\n",
    "for index, row in df.iterrows():\n",
    "    if row['all_avg_wait']>15:\n",
    "        df.at[index,'label'] = 1\n",
    "    else:\n",
    "        df.at[index,'label'] = 0"
   ]
  },
  {
   "cell_type": "code",
   "execution_count": 5,
   "metadata": {},
   "outputs": [
    {
     "data": {
      "text/html": [
       "<div>\n",
       "<style scoped>\n",
       "    .dataframe tbody tr th:only-of-type {\n",
       "        vertical-align: middle;\n",
       "    }\n",
       "\n",
       "    .dataframe tbody tr th {\n",
       "        vertical-align: top;\n",
       "    }\n",
       "\n",
       "    .dataframe thead th {\n",
       "        text-align: right;\n",
       "    }\n",
       "</style>\n",
       "<table border=\"1\" class=\"dataframe\">\n",
       "  <thead>\n",
       "    <tr style=\"text-align: right;\">\n",
       "      <th></th>\n",
       "      <th>Unnamed: 0</th>\n",
       "      <th>Unnamed: 0.1</th>\n",
       "      <th>airport</th>\n",
       "      <th>date</th>\n",
       "      <th>year</th>\n",
       "      <th>month</th>\n",
       "      <th>day</th>\n",
       "      <th>wday</th>\n",
       "      <th>hour</th>\n",
       "      <th>us_avg_wait</th>\n",
       "      <th>...</th>\n",
       "      <th>weekend</th>\n",
       "      <th>overnight</th>\n",
       "      <th>early morning</th>\n",
       "      <th>morning</th>\n",
       "      <th>afternoon</th>\n",
       "      <th>early evening</th>\n",
       "      <th>late evening</th>\n",
       "      <th>us</th>\n",
       "      <th>non_us</th>\n",
       "      <th>label</th>\n",
       "    </tr>\n",
       "  </thead>\n",
       "  <tbody>\n",
       "    <tr>\n",
       "      <th>0</th>\n",
       "      <td>0</td>\n",
       "      <td>1</td>\n",
       "      <td>ORD</td>\n",
       "      <td>2015-01-01</td>\n",
       "      <td>2015</td>\n",
       "      <td>Jan</td>\n",
       "      <td>1</td>\n",
       "      <td>Thu</td>\n",
       "      <td>0100 - 0200</td>\n",
       "      <td>8</td>\n",
       "      <td>...</td>\n",
       "      <td>False</td>\n",
       "      <td>1</td>\n",
       "      <td>0</td>\n",
       "      <td>0</td>\n",
       "      <td>0</td>\n",
       "      <td>0</td>\n",
       "      <td>0</td>\n",
       "      <td>8</td>\n",
       "      <td>9</td>\n",
       "      <td>0</td>\n",
       "    </tr>\n",
       "    <tr>\n",
       "      <th>1</th>\n",
       "      <td>1</td>\n",
       "      <td>2</td>\n",
       "      <td>ORD</td>\n",
       "      <td>2015-01-02</td>\n",
       "      <td>2015</td>\n",
       "      <td>Jan</td>\n",
       "      <td>2</td>\n",
       "      <td>Fri</td>\n",
       "      <td>0400 - 0500</td>\n",
       "      <td>26</td>\n",
       "      <td>...</td>\n",
       "      <td>False</td>\n",
       "      <td>1</td>\n",
       "      <td>0</td>\n",
       "      <td>0</td>\n",
       "      <td>0</td>\n",
       "      <td>0</td>\n",
       "      <td>0</td>\n",
       "      <td>26</td>\n",
       "      <td>29</td>\n",
       "      <td>1</td>\n",
       "    </tr>\n",
       "    <tr>\n",
       "      <th>2</th>\n",
       "      <td>2</td>\n",
       "      <td>3</td>\n",
       "      <td>ORD</td>\n",
       "      <td>2015-01-04</td>\n",
       "      <td>2015</td>\n",
       "      <td>Jan</td>\n",
       "      <td>4</td>\n",
       "      <td>Sun</td>\n",
       "      <td>0100 - 0200</td>\n",
       "      <td>13</td>\n",
       "      <td>...</td>\n",
       "      <td>True</td>\n",
       "      <td>1</td>\n",
       "      <td>0</td>\n",
       "      <td>0</td>\n",
       "      <td>0</td>\n",
       "      <td>0</td>\n",
       "      <td>0</td>\n",
       "      <td>13</td>\n",
       "      <td>11</td>\n",
       "      <td>0</td>\n",
       "    </tr>\n",
       "    <tr>\n",
       "      <th>3</th>\n",
       "      <td>3</td>\n",
       "      <td>4</td>\n",
       "      <td>ORD</td>\n",
       "      <td>2015-01-04</td>\n",
       "      <td>2015</td>\n",
       "      <td>Jan</td>\n",
       "      <td>4</td>\n",
       "      <td>Sun</td>\n",
       "      <td>0400 - 0500</td>\n",
       "      <td>13</td>\n",
       "      <td>...</td>\n",
       "      <td>True</td>\n",
       "      <td>1</td>\n",
       "      <td>0</td>\n",
       "      <td>0</td>\n",
       "      <td>0</td>\n",
       "      <td>0</td>\n",
       "      <td>0</td>\n",
       "      <td>13</td>\n",
       "      <td>17</td>\n",
       "      <td>0</td>\n",
       "    </tr>\n",
       "    <tr>\n",
       "      <th>4</th>\n",
       "      <td>4</td>\n",
       "      <td>5</td>\n",
       "      <td>ORD</td>\n",
       "      <td>2015-01-05</td>\n",
       "      <td>2015</td>\n",
       "      <td>Jan</td>\n",
       "      <td>5</td>\n",
       "      <td>Mon</td>\n",
       "      <td>0200 - 0300</td>\n",
       "      <td>24</td>\n",
       "      <td>...</td>\n",
       "      <td>False</td>\n",
       "      <td>1</td>\n",
       "      <td>0</td>\n",
       "      <td>0</td>\n",
       "      <td>0</td>\n",
       "      <td>0</td>\n",
       "      <td>0</td>\n",
       "      <td>24</td>\n",
       "      <td>22</td>\n",
       "      <td>1</td>\n",
       "    </tr>\n",
       "    <tr>\n",
       "      <th>...</th>\n",
       "      <td>...</td>\n",
       "      <td>...</td>\n",
       "      <td>...</td>\n",
       "      <td>...</td>\n",
       "      <td>...</td>\n",
       "      <td>...</td>\n",
       "      <td>...</td>\n",
       "      <td>...</td>\n",
       "      <td>...</td>\n",
       "      <td>...</td>\n",
       "      <td>...</td>\n",
       "      <td>...</td>\n",
       "      <td>...</td>\n",
       "      <td>...</td>\n",
       "      <td>...</td>\n",
       "      <td>...</td>\n",
       "      <td>...</td>\n",
       "      <td>...</td>\n",
       "      <td>...</td>\n",
       "      <td>...</td>\n",
       "      <td>...</td>\n",
       "    </tr>\n",
       "    <tr>\n",
       "      <th>44049</th>\n",
       "      <td>44049</td>\n",
       "      <td>44050</td>\n",
       "      <td>ORD</td>\n",
       "      <td>2021-11-21</td>\n",
       "      <td>2021</td>\n",
       "      <td>Nov</td>\n",
       "      <td>21</td>\n",
       "      <td>Sun</td>\n",
       "      <td>2200 - 2300</td>\n",
       "      <td>10</td>\n",
       "      <td>...</td>\n",
       "      <td>True</td>\n",
       "      <td>0</td>\n",
       "      <td>0</td>\n",
       "      <td>0</td>\n",
       "      <td>0</td>\n",
       "      <td>0</td>\n",
       "      <td>1</td>\n",
       "      <td>10</td>\n",
       "      <td>13</td>\n",
       "      <td>0</td>\n",
       "    </tr>\n",
       "    <tr>\n",
       "      <th>44050</th>\n",
       "      <td>44050</td>\n",
       "      <td>44051</td>\n",
       "      <td>ORD</td>\n",
       "      <td>2021-11-21</td>\n",
       "      <td>2021</td>\n",
       "      <td>Nov</td>\n",
       "      <td>21</td>\n",
       "      <td>Sun</td>\n",
       "      <td>2300 - 0000</td>\n",
       "      <td>10</td>\n",
       "      <td>...</td>\n",
       "      <td>True</td>\n",
       "      <td>0</td>\n",
       "      <td>0</td>\n",
       "      <td>0</td>\n",
       "      <td>0</td>\n",
       "      <td>0</td>\n",
       "      <td>1</td>\n",
       "      <td>10</td>\n",
       "      <td>10</td>\n",
       "      <td>0</td>\n",
       "    </tr>\n",
       "    <tr>\n",
       "      <th>44051</th>\n",
       "      <td>44051</td>\n",
       "      <td>44052</td>\n",
       "      <td>ORD</td>\n",
       "      <td>2021-11-22</td>\n",
       "      <td>2021</td>\n",
       "      <td>Nov</td>\n",
       "      <td>22</td>\n",
       "      <td>Mon</td>\n",
       "      <td>2000 - 2100</td>\n",
       "      <td>2</td>\n",
       "      <td>...</td>\n",
       "      <td>False</td>\n",
       "      <td>0</td>\n",
       "      <td>0</td>\n",
       "      <td>0</td>\n",
       "      <td>0</td>\n",
       "      <td>0</td>\n",
       "      <td>1</td>\n",
       "      <td>2</td>\n",
       "      <td>2</td>\n",
       "      <td>0</td>\n",
       "    </tr>\n",
       "    <tr>\n",
       "      <th>44052</th>\n",
       "      <td>44052</td>\n",
       "      <td>44053</td>\n",
       "      <td>ORD</td>\n",
       "      <td>2021-11-22</td>\n",
       "      <td>2021</td>\n",
       "      <td>Nov</td>\n",
       "      <td>22</td>\n",
       "      <td>Mon</td>\n",
       "      <td>2200 - 2300</td>\n",
       "      <td>18</td>\n",
       "      <td>...</td>\n",
       "      <td>False</td>\n",
       "      <td>0</td>\n",
       "      <td>0</td>\n",
       "      <td>0</td>\n",
       "      <td>0</td>\n",
       "      <td>0</td>\n",
       "      <td>1</td>\n",
       "      <td>18</td>\n",
       "      <td>18</td>\n",
       "      <td>1</td>\n",
       "    </tr>\n",
       "    <tr>\n",
       "      <th>44053</th>\n",
       "      <td>44053</td>\n",
       "      <td>44054</td>\n",
       "      <td>ORD</td>\n",
       "      <td>2021-11-22</td>\n",
       "      <td>2021</td>\n",
       "      <td>Nov</td>\n",
       "      <td>22</td>\n",
       "      <td>Mon</td>\n",
       "      <td>2300 - 0000</td>\n",
       "      <td>6</td>\n",
       "      <td>...</td>\n",
       "      <td>False</td>\n",
       "      <td>0</td>\n",
       "      <td>0</td>\n",
       "      <td>0</td>\n",
       "      <td>0</td>\n",
       "      <td>0</td>\n",
       "      <td>1</td>\n",
       "      <td>6</td>\n",
       "      <td>10</td>\n",
       "      <td>0</td>\n",
       "    </tr>\n",
       "  </tbody>\n",
       "</table>\n",
       "<p>44054 rows × 37 columns</p>\n",
       "</div>"
      ],
      "text/plain": [
       "       Unnamed: 0  Unnamed: 0.1 airport        date  year month  day wday  \\\n",
       "0               0             1     ORD  2015-01-01  2015   Jan    1  Thu   \n",
       "1               1             2     ORD  2015-01-02  2015   Jan    2  Fri   \n",
       "2               2             3     ORD  2015-01-04  2015   Jan    4  Sun   \n",
       "3               3             4     ORD  2015-01-04  2015   Jan    4  Sun   \n",
       "4               4             5     ORD  2015-01-05  2015   Jan    5  Mon   \n",
       "...           ...           ...     ...         ...   ...   ...  ...  ...   \n",
       "44049       44049         44050     ORD  2021-11-21  2021   Nov   21  Sun   \n",
       "44050       44050         44051     ORD  2021-11-21  2021   Nov   21  Sun   \n",
       "44051       44051         44052     ORD  2021-11-22  2021   Nov   22  Mon   \n",
       "44052       44052         44053     ORD  2021-11-22  2021   Nov   22  Mon   \n",
       "44053       44053         44054     ORD  2021-11-22  2021   Nov   22  Mon   \n",
       "\n",
       "              hour  us_avg_wait  ...  weekend  overnight  early morning  \\\n",
       "0      0100 - 0200            8  ...    False          1              0   \n",
       "1      0400 - 0500           26  ...    False          1              0   \n",
       "2      0100 - 0200           13  ...     True          1              0   \n",
       "3      0400 - 0500           13  ...     True          1              0   \n",
       "4      0200 - 0300           24  ...    False          1              0   \n",
       "...            ...          ...  ...      ...        ...            ...   \n",
       "44049  2200 - 2300           10  ...     True          0              0   \n",
       "44050  2300 - 0000           10  ...     True          0              0   \n",
       "44051  2000 - 2100            2  ...    False          0              0   \n",
       "44052  2200 - 2300           18  ...    False          0              0   \n",
       "44053  2300 - 0000            6  ...    False          0              0   \n",
       "\n",
       "       morning  afternoon  early evening  late evening  us  non_us  label  \n",
       "0            0          0              0             0   8       9      0  \n",
       "1            0          0              0             0  26      29      1  \n",
       "2            0          0              0             0  13      11      0  \n",
       "3            0          0              0             0  13      17      0  \n",
       "4            0          0              0             0  24      22      1  \n",
       "...        ...        ...            ...           ...  ..     ...    ...  \n",
       "44049        0          0              0             1  10      13      0  \n",
       "44050        0          0              0             1  10      10      0  \n",
       "44051        0          0              0             1   2       2      0  \n",
       "44052        0          0              0             1  18      18      1  \n",
       "44053        0          0              0             1   6      10      0  \n",
       "\n",
       "[44054 rows x 37 columns]"
      ]
     },
     "execution_count": 5,
     "metadata": {},
     "output_type": "execute_result"
    }
   ],
   "source": [
    "df"
   ]
  },
  {
   "cell_type": "code",
   "execution_count": 6,
   "metadata": {},
   "outputs": [],
   "source": [
    "X = df.iloc[:,22:34]\n",
    "y = df.iloc[:,-1] "
   ]
  },
  {
   "cell_type": "code",
   "execution_count": 7,
   "metadata": {},
   "outputs": [
    {
     "name": "stdout",
     "output_type": "stream",
     "text": [
      "            Specs         Score\n",
      "1      passengers  1.095464e+06\n",
      "0    all_excluded  5.369469e+04\n",
      "3          booths  2.476880e+03\n",
      "2         flights  2.333207e+03\n",
      "7   early morning  5.939148e+02\n",
      "11   late evening  4.261540e+02\n",
      "4           index  4.106641e+02\n"
     ]
    }
   ],
   "source": [
    "#pipe = Pipeline([('scaler', StandardScaler()), ('bestfeatures', SelectKBest(score_func=chi2, k=7))])\n",
    "bestfeatures = SelectKBest(score_func=chi2, k=7)\n",
    "fit = bestfeatures.fit(X,y)\n",
    "dfscores = pd.DataFrame(fit.scores_)\n",
    "dfcolumns = pd.DataFrame(X.columns)\n",
    "featureScores = pd.concat([dfcolumns,dfscores],axis=1)\n",
    "featureScores.columns = ['Specs','Score']  #naming the dataframe columns\n",
    "print(featureScores.nlargest(7,'Score'))  #print 10 best features"
   ]
  },
  {
   "cell_type": "code",
   "execution_count": 8,
   "metadata": {},
   "outputs": [
    {
     "name": "stdout",
     "output_type": "stream",
     "text": [
      "[0.23825274 0.46376306 0.05906437 0.18628962 0.00937216 0.00663964\n",
      " 0.00057588 0.01380892 0.00356478 0.00570984 0.00796515 0.00499385]\n"
     ]
    },
    {
     "data": {
      "image/png": "[encoded data removed]",
      "text/plain": [
       "<Figure size 432x288 with 1 Axes>"
      ]
     },
     "metadata": {
      "needs_background": "light"
     },
     "output_type": "display_data"
    }
   ],
   "source": [
    "from sklearn.ensemble import ExtraTreesClassifier\n",
    "import matplotlib.pyplot as plt\n",
    "model = ExtraTreesClassifier()\n",
    "model.fit(X,y)\n",
    "print(model.feature_importances_) #use inbuilt class feature_importances of tree based classifiers\n",
    "#plot graph of feature importances for better visualization\n",
    "feat_importances = pd.Series(model.feature_importances_, index=X.columns)\n",
    "feat_importances.nlargest(7).plot(kind='barh')\n",
    "plt.show()"
   ]
  },
  {
   "cell_type": "code",
   "execution_count": 9,
   "metadata": {},
   "outputs": [],
   "source": [
    "X = df[[ \"non_us\", \"us\", \"booths\", \"flights\", \"passengers\"]].to_numpy()\n",
    "y = df[['label']].to_numpy()\n",
    "y = np.ravel(y)"
   ]
  },
  {
   "cell_type": "code",
   "execution_count": 10,
   "metadata": {},
   "outputs": [],
   "source": [
    "X_train, X_test, y_train, y_test = train_test_split(X, y, test_size=0.33, random_state=42)"
   ]
  },
  {
   "cell_type": "code",
   "execution_count": 11,
   "metadata": {},
   "outputs": [],
   "source": [
    "from sklearn.tree import DecisionTreeClassifier\n",
    "tree_train_list = []\n",
    "index = []\n",
    "tree_test_list = []\n",
    "for i in range(100):\n",
    "    index.append(i+ 1)\n",
    "    tree = DecisionTreeClassifier(max_depth=i + 1)\n",
    "    tree.fit(X_train, y_train)\n",
    "    tree_test_list.append(tree.score(X_test, y_test)) \n",
    "    tree_train_list.append(tree.score(X_train, y_train)) "
   ]
  },
  {
   "cell_type": "code",
   "execution_count": 12,
   "metadata": {},
   "outputs": [
    {
     "data": {
      "image/png": "[encoded data removed]",
      "text/plain": [
       "<Figure size 432x288 with 1 Axes>"
      ]
     },
     "metadata": {
      "needs_background": "light"
     },
     "output_type": "display_data"
    }
   ],
   "source": [
    "plt.plot(index, tree_train_list, marker='o', label='Train')\n",
    "plt.plot(index, tree_test_list, marker='s', label='Test')\n",
    "plt.legend(loc='best', numpoints=1)\n",
    "plt.xlabel('max_depth')\n",
    "plt.ylabel('Accuracy')\n",
    "plt.tight_layout()"
   ]
  },
  {
   "cell_type": "code",
   "execution_count": 13,
   "metadata": {},
   "outputs": [
    {
     "name": "stdout",
     "output_type": "stream",
     "text": [
      "Best Accuracy: 96.06%\n",
      "Best Params: {'criterion': 'gini', 'max_depth': 6}\n",
      "Test Accuracy: 96.30%\n"
     ]
    }
   ],
   "source": [
    "from sklearn.model_selection import GridSearchCV\n",
    "tree = DecisionTreeClassifier(random_state=123)\n",
    "\n",
    "new_list = [None]\n",
    "for i in range(20):\n",
    "    new_list.append(i+1)\n",
    "param_grid = {\n",
    "    'criterion': ['gini', 'entropy'],\n",
    "    'max_depth': new_list\n",
    "}\n",
    "\n",
    "gs = GridSearchCV(estimator=tree,\n",
    "                  param_grid=param_grid,\n",
    "                  scoring='accuracy',\n",
    "                  cv=10)\n",
    "\n",
    "gs.fit(X_train, y_train)\n",
    "\n",
    "print('Best Accuracy: %.2f%%' % (gs.best_score_*100))\n",
    "print('Best Params: %s' % gs.best_params_)\n",
    "print('Test Accuracy: %.2f%%' % (gs.best_estimator_.score(X_test, y_test)*100))"
   ]
  },
  {
   "cell_type": "code",
   "execution_count": 14,
   "metadata": {},
   "outputs": [
    {
     "name": "stdout",
     "output_type": "stream",
     "text": [
      "Best Accuracy: 96.06%\n",
      "Best Params: {'criterion': 'gini', 'max_depth': 6}\n",
      "Test Accuracy: 96.30%\n"
     ]
    }
   ],
   "source": [
    "from sklearn.model_selection import GridSearchCV\n",
    "tree = DecisionTreeClassifier(random_state=123)\n",
    "\n",
    "new_list = [None]\n",
    "for i in range(20):\n",
    "    new_list.append(i+1)\n",
    "param_grid = {\n",
    "    'criterion': ['gini', 'entropy'],\n",
    "    'max_depth': new_list\n",
    "}\n",
    "\n",
    "gs = GridSearchCV(estimator=tree,\n",
    "                  param_grid=param_grid,\n",
    "                  scoring='accuracy',\n",
    "                  cv=10)\n",
    "\n",
    "gs.fit(X_train, y_train)\n",
    "\n",
    "print('Best Accuracy: %.2f%%' % (gs.best_score_*100))\n",
    "print('Best Params: %s' % gs.best_params_)\n",
    "print('Test Accuracy: %.2f%%' % (gs.best_estimator_.score(X_test, y_test)*100))"
   ]
  },
  {
   "cell_type": "code",
   "execution_count": 15,
   "metadata": {},
   "outputs": [
    {
     "name": "stdout",
     "output_type": "stream",
     "text": [
      "Kfold Accuracy: 96.09%\n",
      "OOB Bootstrap Accuracy: 96.04%\n"
     ]
    }
   ],
   "source": [
    "from sklearn.model_selection import cross_val_score\n",
    "from sklearn.model_selection import StratifiedKFold\n",
    "\n",
    "cv_acc = cross_val_score(estimator=gs.best_estimator_,\n",
    "                         X=X_train,\n",
    "                         y=y_train,\n",
    "                         cv=StratifiedKFold(n_splits=10, random_state=123, shuffle=True),\n",
    "                         n_jobs=-1)\n",
    "\n",
    "print('Kfold Accuracy: %.2f%%' % (np.mean(cv_acc)*100))\n",
    "\n",
    "from mlxtend.evaluate import bootstrap_point632_score\n",
    "\n",
    "\n",
    "cv_acc = bootstrap_point632_score(estimator=gs.best_estimator_,\n",
    "                                  X=X_train,\n",
    "                                  y=y_train,\n",
    "                                  random_seed=99)\n",
    "\n",
    "print('OOB Bootstrap Accuracy: %.2f%%' % (np.mean(cv_acc)*100))"
   ]
  },
  {
   "cell_type": "code",
   "execution_count": 16,
   "metadata": {},
   "outputs": [
    {
     "name": "stdout",
     "output_type": "stream",
     "text": [
      "Accuracy: 96.04%\n",
      "95% Confidence interval: [0.96, 0.96]\n"
     ]
    }
   ],
   "source": [
    "from mlxtend.evaluate import bootstrap_point632_score\n",
    "import numpy as np\n",
    "\n",
    "\n",
    "# Compute Out-of-bag Bootstrap\n",
    "scores = bootstrap_point632_score(gs.best_estimator_, X, y, method='oob', random_seed = 1)\n",
    "\n",
    "\n",
    "# Compute accuracy (average over the bootstrap rounds)\n",
    "acc = np.mean(scores)\n",
    "print('Accuracy: %.2f%%' % (100*acc))\n",
    "\n",
    "# Compute the 95% confidence interval around the accuracy estimate\n",
    "lower = np.percentile(scores, 2.5)\n",
    "upper = np.percentile(scores, 97.5)\n",
    "print('95%% Confidence interval: [%.2f, %.2f]' % (lower, upper))"
   ]
  },
  {
   "cell_type": "code",
   "execution_count": 17,
   "metadata": {},
   "outputs": [
    {
     "data": {
      "text/plain": [
       "0.9590727747970835"
      ]
     },
     "execution_count": 17,
     "metadata": {},
     "output_type": "execute_result"
    }
   ],
   "source": [
    "from sklearn.tree import DecisionTreeClassifier\n",
    "pipe = Pipeline([('scaler', StandardScaler()), ('dicision_tree', DecisionTreeClassifier(max_depth=10))])\n",
    "pipe.fit(X_train, y_train)\n",
    "score = pipe.score(X_test, y_test)\n",
    "score"
   ]
  },
  {
   "cell_type": "code",
   "execution_count": 18,
   "metadata": {},
   "outputs": [
    {
     "name": "stdout",
     "output_type": "stream",
     "text": [
      "Training Accuracy: 0.99726\n",
      "Test Accuracy: 0.96045\n"
     ]
    }
   ],
   "source": [
    "from sklearn.ensemble import RandomForestClassifier\n",
    "forest = RandomForestClassifier(n_estimators=10,\n",
    "                                random_state=123)\n",
    "forest.fit(X_train, y_train)\n",
    "\n",
    "print(f\"Training Accuracy: {forest.score(X_train, y_train):0.5f}\")\n",
    "print(f\"Test Accuracy: {forest.score(X_test, y_test):0.5f}\")"
   ]
  },
  {
   "cell_type": "code",
   "execution_count": 19,
   "metadata": {},
   "outputs": [
    {
     "name": "stdout",
     "output_type": "stream",
     "text": [
      "Training Accuracy: 0.99726\n",
      "Test Accuracy: 0.96045\n"
     ]
    }
   ],
   "source": [
    "from sklearn.ensemble import RandomForestClassifier\n",
    "forest = RandomForestClassifier(n_estimators=10,\n",
    "                                random_state=123)\n",
    "forest.fit(X_train, y_train)\n",
    "\n",
    "print(f\"Training Accuracy: {forest.score(X_train, y_train):0.5f}\")\n",
    "print(f\"Test Accuracy: {forest.score(X_test, y_test):0.5f}\")"
   ]
  },
  {
   "cell_type": "code",
   "execution_count": 20,
   "metadata": {},
   "outputs": [],
   "source": [
    "from sklearn.neighbors import KNeighborsClassifier\n",
    "\n",
    "tree_train_list = []\n",
    "index = []\n",
    "tree_test_list = []\n",
    "for i in range(100):\n",
    "    index.append(i+ 1)\n",
    "    knn = KNeighborsClassifier(n_neighbors=i + 1)\n",
    "    knn.fit(X_train, y_train)\n",
    "    tree_test_list.append(knn.score(X_test, y_test)) \n",
    "    tree_train_list.append(knn.score(X_train, y_train)) "
   ]
  },
  {
   "cell_type": "code",
   "execution_count": 21,
   "metadata": {},
   "outputs": [
    {
     "data": {
      "image/png": "[encoded data removed]",
      "text/plain": [
       "<Figure size 432x288 with 1 Axes>"
      ]
     },
     "metadata": {
      "needs_background": "light"
     },
     "output_type": "display_data"
    }
   ],
   "source": [
    "plt.plot(index, tree_train_list, marker='o', label='Train')\n",
    "plt.plot(index, tree_test_list, marker='s', label='Test')\n",
    "plt.legend(loc='best', numpoints=1)\n",
    "plt.xlabel('max_depth')\n",
    "plt.ylabel('Accuracy')\n",
    "plt.tight_layout()"
   ]
  },
  {
   "cell_type": "code",
   "execution_count": 22,
   "metadata": {},
   "outputs": [
    {
     "name": "stdout",
     "output_type": "stream",
     "text": [
      "Training Accuracy: 96.416%\n",
      "Test Accuracy: 96.361%\n"
     ]
    }
   ],
   "source": [
    "from sklearn.experimental import enable_hist_gradient_boosting\n",
    "from sklearn.ensemble import HistGradientBoostingClassifier\n",
    "from sklearn.ensemble import AdaBoostClassifier\n",
    "\n",
    "boost = AdaBoostClassifier(random_state=123)\n",
    "boost.fit(X_train, y_train)\n",
    "\n",
    "print(f\"Training Accuracy: {boost.score(X_train, y_train)* 100:0.3f}%\")\n",
    "print(f\"Test Accuracy: {boost.score(X_test, y_test)*100:0.3f}%\")"
   ]
  }
 ],
 "metadata": {
  "interpreter": {
   "hash": "31f2aee4e71d21fbe5cf8b01ff0e069b9275f58929596ceb00d14d90e3e16cd6"
  },
  "kernelspec": {
   "display_name": "Python 3",
   "language": "python",
   "name": "python3"
  },
  "language_info": {
   "codemirror_mode": {
    "name": "ipython",
    "version": 3
   },
   "file_extension": ".py",
   "mimetype": "text/x-python",
   "name": "python",
   "nbconvert_exporter": "python",
   "pygments_lexer": "ipython3",
   "version": "3.8.8"
  }
 },
 "nbformat": 4,
 "nbformat_minor": 2
}
